{
 "cells": [
  {
   "cell_type": "code",
   "execution_count": 10,
   "metadata": {},
   "outputs": [],
   "source": [
    "import numpy as np\n",
    "import matplotlib.pyplot as plt\n",
    "\n",
    "def euclideanDistance(x, y):\n",
    "    squared_d = 0\n",
    "    for i in range(len(x)):\n",
    "        squared_d += (x[i] - y[i])**2\n",
    "    d = np.sqrt(squared_d)\n",
    "    return d\n",
    "\n",
    "class k_medoids:\n",
    "    def __init__(self, k = 2, max_iter = 300, has_converged = False):\n",
    "        self.k = k\n",
    "        self.max_iter = max_iter\n",
    "        self.has_converged = has_converged\n",
    "        self.medoids_cost = []\n",
    "        \n",
    "    def initMedoids(self, X):\n",
    "        self.medoids = []\n",
    "        indexes = np.random.randint(0, len(X)-1,self.k)\n",
    "        self.medoids = X[indexes]\n",
    "        for i in range(0,self.k):\n",
    "            self.medoids_cost.append(0)\n",
    "            \n",
    "    def isConverged(self, new_medoids):\n",
    "        return set([tuple(x) for x in self.medoids]) == set([tuple(x) for x in new_medoids])  \n",
    "   \n",
    "    def fit(self, X):\n",
    "        self.initMedoids(X)\n",
    "        \n",
    "        for i in range(self.max_iter):\n",
    "            cur_labels = []\n",
    "            for medoid in range(0,self.k):\n",
    "                self.medoids_cost[medoid] = 0\n",
    "                for k in range(len(X)):\n",
    "                    d_list = []                    \n",
    "                    for j in range(0,self.k):\n",
    "                        d_list.append(euclideanDistance(self.medoids[j], X[k]))\n",
    "                    cur_labels.append(d_list.index(min(d_list)))\n",
    "                    self.medoids_cost[medoid] += min(d_list)         \n",
    "            self.updateMedoids(X, cur_labels)\n",
    "            if self.has_converged:\n",
    "                break\n",
    "        cost=0\n",
    "        for i in range(0,self.k):\n",
    "            cost+=self.medoids_cost[i]\n",
    "        return np.array(self.medoids) ,cost\n",
    "    \n",
    "    def updateMedoids(self, X, labels):\n",
    "\n",
    "        self.has_converged = True\n",
    "        clusters = []\n",
    "        for i in range(0,self.k):\n",
    "            cluster = []\n",
    "            for j in range(len(X)):\n",
    "                if (labels[j] == i):\n",
    "                    cluster.append(X[j])\n",
    "            clusters.append(cluster)\n",
    "        new_medoids = []\n",
    "        for i in range(0, self.k):\n",
    "            new_medoid = self.medoids[i]\n",
    "            old_medoids_cost = self.medoids_cost[i]\n",
    "            for j in range(len(clusters[i])):\n",
    "                \n",
    "                cur_medoids_cost = 0\n",
    "                for dpoint_index in range(len(clusters[i])):\n",
    "                    cur_medoids_cost += euclideanDistance(clusters[i][j], clusters[i][dpoint_index])\n",
    "                \n",
    "                if cur_medoids_cost < old_medoids_cost:\n",
    "                    new_medoid = clusters[i][j]\n",
    "                    old_medoids_cost = cur_medoids_cost\n",
    "            \n",
    "            new_medoids.append(new_medoid)\n",
    "        if not self.isConverged(new_medoids):\n",
    "            self.medoids = new_medoids\n",
    "            self.has_converged = False\n",
    "        "
   ]
  },
  {
   "cell_type": "code",
   "execution_count": 4,
   "metadata": {},
   "outputs": [],
   "source": [
    "X=np.array([[100,5],[90,7],[15,96],[20,105],[85,12],[18,110]])"
   ]
  },
  {
   "cell_type": "code",
   "execution_count": 15,
   "metadata": {},
   "outputs": [],
   "source": [
    "x=[]\n",
    "y=[]"
   ]
  },
  {
   "cell_type": "code",
   "execution_count": 16,
   "metadata": {},
   "outputs": [],
   "source": [
    "for i in range(1,X.shape[0]+1):\n",
    "    k=k_medoids(k=i)\n",
    "    a,cost=k.fit(X)\n",
    "    y.append(cost)\n",
    "    x.append(i)"
   ]
  },
  {
   "cell_type": "code",
   "execution_count": 17,
   "metadata": {},
   "outputs": [
    {
     "data": {
      "text/plain": [
       "[<matplotlib.lines.Line2D at 0x23034647c50>]"
      ]
     },
     "execution_count": 17,
     "metadata": {},
     "output_type": "execute_result"
    },
    {
     "data": {
      "image/png": "[encoded data removed]",
      "text/plain": [
       "<Figure size 432x288 with 1 Axes>"
      ]
     },
     "metadata": {
      "needs_background": "light"
     },
     "output_type": "display_data"
    }
   ],
   "source": [
    "plt.plot(x,y)"
   ]
  },
  {
   "cell_type": "code",
   "execution_count": null,
   "metadata": {},
   "outputs": [],
   "source": []
  }
 ],
 "metadata": {
  "kernelspec": {
   "display_name": "Python 3",
   "language": "python",
   "name": "python3"
  },
  "language_info": {
   "codemirror_mode": {
    "name": "ipython",
    "version": 3
   },
   "file_extension": ".py",
   "mimetype": "text/x-python",
   "name": "python",
   "nbconvert_exporter": "python",
   "pygments_lexer": "ipython3",
   "version": "3.7.1"
  }
 },
 "nbformat": 4,
 "nbformat_minor": 2
}
