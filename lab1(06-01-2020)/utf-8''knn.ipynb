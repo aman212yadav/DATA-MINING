{
  "cells": [
    {
      "metadata": {
        "trusted": true
      },
      "cell_type": "code",
      "source": "import pandas as pd\nimport numpy as np\nimport matplotlib.pyplot as plt",
      "execution_count": 124,
      "outputs": []
    },
    {
      "metadata": {
        "trusted": true
      },
      "cell_type": "code",
      "source": "df=pd.read_csv(\"iris.csv\",header=None)",
      "execution_count": 125,
      "outputs": []
    },
    {
      "metadata": {
        "trusted": true
      },
      "cell_type": "code",
      "source": "df.tail()",
      "execution_count": 126,
      "outputs": [
        {
          "output_type": "execute_result",
          "execution_count": 126,
          "data": {
            "text/html": "<div>\n<table border=\"1\" class=\"dataframe\">\n  <thead>\n    <tr style=\"text-align: right;\">\n      <th></th>\n      <th>0</th>\n      <th>1</th>\n      <th>2</th>\n      <th>3</th>\n      <th>4</th>\n    </tr>\n  </thead>\n  <tbody>\n    <tr>\n      <th>145</th>\n      <td>6.7</td>\n      <td>3.0</td>\n      <td>5.2</td>\n      <td>2.3</td>\n      <td>Iris-virginica</td>\n    </tr>\n    <tr>\n      <th>146</th>\n      <td>6.3</td>\n      <td>2.5</td>\n      <td>5.0</td>\n      <td>1.9</td>\n      <td>Iris-virginica</td>\n    </tr>\n    <tr>\n      <th>147</th>\n      <td>6.5</td>\n      <td>3.0</td>\n      <td>5.2</td>\n      <td>2.0</td>\n      <td>Iris-virginica</td>\n    </tr>\n    <tr>\n      <th>148</th>\n      <td>6.2</td>\n      <td>3.4</td>\n      <td>5.4</td>\n      <td>2.3</td>\n      <td>Iris-virginica</td>\n    </tr>\n    <tr>\n      <th>149</th>\n      <td>5.9</td>\n      <td>3.0</td>\n      <td>5.1</td>\n      <td>1.8</td>\n      <td>Iris-virginica</td>\n    </tr>\n  </tbody>\n</table>\n</div>",
            "text/plain": "       0    1    2    3               4\n145  6.7  3.0  5.2  2.3  Iris-virginica\n146  6.3  2.5  5.0  1.9  Iris-virginica\n147  6.5  3.0  5.2  2.0  Iris-virginica\n148  6.2  3.4  5.4  2.3  Iris-virginica\n149  5.9  3.0  5.1  1.8  Iris-virginica"
          },
          "metadata": {}
        }
      ]
    },
    {
      "metadata": {
        "trusted": true
      },
      "cell_type": "code",
      "source": "X=df.values",
      "execution_count": 127,
      "outputs": []
    },
    {
      "metadata": {
        "trusted": true
      },
      "cell_type": "code",
      "source": "X[np.where((X[:,4] =='Iris-setosa') ),4]=0\nX[np.where((X[:,4] =='Iris-versicolor')),4 ]=1\nX[np.where((X[:,4] =='Iris-virginica') ),4]=2\n",
      "execution_count": 128,
      "outputs": []
    },
    {
      "metadata": {},
      "cell_type": "markdown",
      "source": "## converting data into X AND Y\n"
    },
    {
      "metadata": {
        "trusted": true
      },
      "cell_type": "code",
      "source": "x=X[:,:4]\ny=X[:,4]",
      "execution_count": 129,
      "outputs": []
    },
    {
      "metadata": {
        "trusted": true
      },
      "cell_type": "code",
      "source": "x_setosa=x[:50,:]\ny_setosa=y[:50]\nx_versicolor=x[50:100,:]\ny_versicolor=y[50:100]\nx_virginica=x[100:,:]\ny_virginica=y[100:]",
      "execution_count": 130,
      "outputs": []
    },
    {
      "metadata": {
        "trusted": true
      },
      "cell_type": "code",
      "source": "X_setosa.shape , X_versicolor.shape , X_virginica.shape",
      "execution_count": 131,
      "outputs": [
        {
          "output_type": "execute_result",
          "execution_count": 131,
          "data": {
            "text/plain": "((50, 5), (50, 5), (50, 5))"
          },
          "metadata": {}
        }
      ]
    },
    {
      "metadata": {},
      "cell_type": "markdown",
      "source": "## Converting data into train ,validate and test set"
    },
    {
      "metadata": {
        "trusted": true
      },
      "cell_type": "code",
      "source": "x_train_setosa=x_setosa[:30,:]\ny_train_setosa=y_setosa[:30]\nx_valid_setosa=x_setosa[30:40,:]\ny_valid_setosa=y_setosa[30:40]\nx_test_setosa=x_setosa[40:50,:]\ny_test_setosa=y_setosa[40:50]\n",
      "execution_count": 132,
      "outputs": []
    },
    {
      "metadata": {
        "trusted": true
      },
      "cell_type": "code",
      "source": "x_train_versicolor=x_versicolor[:30,:]\ny_train_versicolor=y_versicolor[:30]\nx_valid_versicolor=x_versicolor[30:40,:]\ny_valid_versicolor=y_versicolor[30:40]\nx_test_versicolor=x_versicolor[40:50,:]\ny_test_versicolor=y_versicolor[40:50]",
      "execution_count": 133,
      "outputs": []
    },
    {
      "metadata": {
        "trusted": true
      },
      "cell_type": "code",
      "source": "x_train_virginica=x_virginica[:30,:]\ny_train_virginica=y_virginica[:30]\nx_valid_virginica=x_virginica[30:40,:]\ny_valid_virginica=y_virginica[30:40]\nx_test_virginica=x_virginica[40:50,:]\ny_test_virginica=y_virginica[40:50]",
      "execution_count": 134,
      "outputs": []
    },
    {
      "metadata": {
        "trusted": true
      },
      "cell_type": "code",
      "source": "x_train=np.concatenate((x_train_setosa,x_train_versicolor,x_train_virginica),axis=0)\nx_valid=np.concatenate((x_valid_setosa,x_valid_versicolor,x_valid_virginica),axis=0)\nx_test=np.concatenate((x_test_setosa,x_test_versicolor,x_test_virginica),axis=0)",
      "execution_count": 135,
      "outputs": []
    },
    {
      "metadata": {
        "trusted": true
      },
      "cell_type": "code",
      "source": "y_train=np.concatenate((y_train_setosa,y_train_versicolor,y_train_virginica),axis=0)\ny_valid=np.concatenate((y_valid_setosa,y_valid_versicolor,y_valid_virginica),axis=0)\ny_test=np.concatenate((y_test_setosa,y_test_versicolor,y_test_virginica),axis=0)",
      "execution_count": 136,
      "outputs": []
    },
    {
      "metadata": {
        "trusted": true
      },
      "cell_type": "code",
      "source": "",
      "execution_count": null,
      "outputs": []
    },
    {
      "metadata": {
        "trusted": true
      },
      "cell_type": "code",
      "source": "def distance(x1,x2):\n    return np.sqrt(np.sum((x1-x2)**2))\n\ndef accuracy(y_pred,y):\n    m=y_pred.shape[0]\n    return np.sum(y_pred==y)/m\ndef knn(X,Y,XX,k):\n    m=X.shape[0]\n    n=XX.shape[0]\n    labels=[]\n    for j in range(n):\n        l=[]\n        for i in range(m):\n            dist=distance(XX[j],X[i])\n            l.append((dist,Y[i]))\n        val=sorted(l)\n        val=val[:k]\n        val=np.array(val)\n        r=np.unique(val[:,1],return_counts=True)\n        idx=np.argmax(r[1])\n        labels.append(r[0][idx])\n    return labels    \n",
      "execution_count": 137,
      "outputs": []
    },
    {
      "metadata": {},
      "cell_type": "markdown",
      "source": "## getting perfect k"
    },
    {
      "metadata": {
        "trusted": true
      },
      "cell_type": "code",
      "source": "acc=-1\nK=0\nfor k in range(1,6):\n    labels=knn(x_train,y_train,x_valid,k)\n    labels=np.array(labels)\n    ac=accuracy(labels,y_valid)\n    print(ac)\n    if ac > acc:\n        acc=ac\n        K=k\n        ",
      "execution_count": 145,
      "outputs": [
        {
          "output_type": "stream",
          "text": "0.9333333333333333\n0.9\n0.9666666666666667\n0.9666666666666667\n0.9666666666666667\n",
          "name": "stdout"
        }
      ]
    },
    {
      "metadata": {},
      "cell_type": "markdown",
      "source": "### testing"
    },
    {
      "metadata": {
        "trusted": true
      },
      "cell_type": "code",
      "source": "labels=knn(x_train,y_train,x_test,K)\nlabels=np.array(labels)\nac=accuracy(labels,y_test)",
      "execution_count": 146,
      "outputs": []
    },
    {
      "metadata": {
        "trusted": true
      },
      "cell_type": "code",
      "source": "labels",
      "execution_count": 147,
      "outputs": [
        {
          "output_type": "execute_result",
          "execution_count": 147,
          "data": {
            "text/plain": "array([0., 0., 0., 0., 0., 0., 0., 0., 0., 0., 1., 1., 1., 1., 1., 1., 1.,\n       1., 1., 1., 2., 2., 2., 2., 2., 2., 2., 2., 2., 2.])"
          },
          "metadata": {}
        }
      ]
    },
    {
      "metadata": {
        "trusted": true
      },
      "cell_type": "code",
      "source": "y_test",
      "execution_count": 143,
      "outputs": [
        {
          "output_type": "execute_result",
          "execution_count": 143,
          "data": {
            "text/plain": "array([0, 0, 0, 0, 0, 0, 0, 0, 0, 0, 1, 1, 1, 1, 1, 1, 1, 1, 1, 1, 2, 2,\n       2, 2, 2, 2, 2, 2, 2, 2], dtype=object)"
          },
          "metadata": {}
        }
      ]
    },
    {
      "metadata": {
        "trusted": true
      },
      "cell_type": "code",
      "source": "from sklearn.neighbors import KNeighborsClassifier",
      "execution_count": 148,
      "outputs": []
    },
    {
      "metadata": {
        "trusted": true
      },
      "cell_type": "code",
      "source": "neigh = KNeighborsClassifier(n_neighbors=3)",
      "execution_count": 149,
      "outputs": []
    },
    {
      "metadata": {
        "trusted": true
      },
      "cell_type": "code",
      "source": "neigh.fit(x_train, list(y_train))",
      "execution_count": 155,
      "outputs": [
        {
          "output_type": "execute_result",
          "execution_count": 155,
          "data": {
            "text/plain": "KNeighborsClassifier(algorithm='auto', leaf_size=30, metric='minkowski',\n           metric_params=None, n_jobs=1, n_neighbors=3, p=2,\n           weights='uniform')"
          },
          "metadata": {}
        }
      ]
    },
    {
      "metadata": {
        "trusted": true
      },
      "cell_type": "code",
      "source": "x_train.shape, y_train.shape",
      "execution_count": 153,
      "outputs": [
        {
          "output_type": "execute_result",
          "execution_count": 153,
          "data": {
            "text/plain": "((90, 4), (90,))"
          },
          "metadata": {}
        }
      ]
    },
    {
      "metadata": {
        "trusted": true
      },
      "cell_type": "code",
      "source": "neigh.predict(x_test)",
      "execution_count": 157,
      "outputs": [
        {
          "output_type": "execute_result",
          "execution_count": 157,
          "data": {
            "text/plain": "array([0, 0, 0, 0, 0, 0, 0, 0, 0, 0, 1, 1, 1, 1, 1, 1, 1, 1, 1, 1, 2, 2,\n       2, 2, 2, 2, 2, 2, 2, 2])"
          },
          "metadata": {}
        }
      ]
    },
    {
      "metadata": {
        "trusted": true
      },
      "cell_type": "code",
      "source": "y_test",
      "execution_count": 158,
      "outputs": [
        {
          "output_type": "execute_result",
          "execution_count": 158,
          "data": {
            "text/plain": "array([0, 0, 0, 0, 0, 0, 0, 0, 0, 0, 1, 1, 1, 1, 1, 1, 1, 1, 1, 1, 2, 2,\n       2, 2, 2, 2, 2, 2, 2, 2], dtype=object)"
          },
          "metadata": {}
        }
      ]
    },
    {
      "metadata": {
        "trusted": true
      },
      "cell_type": "code",
      "source": "",
      "execution_count": null,
      "outputs": []
    }
  ],
  "metadata": {
    "kernelspec": {
      "name": "python3",
      "display_name": "Python 3",
      "language": "python"
    },
    "language_info": {
      "mimetype": "text/x-python",
      "nbconvert_exporter": "python",
      "name": "python",
      "pygments_lexer": "ipython3",
      "version": "3.5.4",
      "file_extension": ".py",
      "codemirror_mode": {
        "version": 3,
        "name": "ipython"
      }
    }
  },
  "nbformat": 4,
  "nbformat_minor": 1
}